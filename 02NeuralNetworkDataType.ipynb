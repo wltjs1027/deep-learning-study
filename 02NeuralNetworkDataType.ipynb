{
 "cells": [
  {
   "cell_type": "markdown",
   "metadata": {
    "id": "ebow7b5dS-KW"
   },
   "source": [
    "# 신경망 데이터 표현"
   ]
  },
  {
   "cell_type": "code",
   "execution_count": 3,
   "metadata": {
    "id": "9BDaiyTNBFAN"
   },
   "outputs": [],
   "source": [
    "import numpy as np\n",
    "import matplotlib.pyplot as plt"
   ]
  },
  {
   "cell_type": "markdown",
   "metadata": {
    "id": "ehzSlqdjBVxB"
   },
   "source": [
    "## 그림으로 이해하기\n",
    "\n",
    "![array](https://www.oreilly.com/library/view/elegant-scipy/9781491922927/assets/elsp_0105.png)\n",
    "<br /><sub>출처: https://www.oreilly.com/library/view/elegant-scipy/9781491922927/ch01.html</sub>"
   ]
  },
  {
   "cell_type": "markdown",
   "metadata": {
    "id": "AxZDqX5HBYMf"
   },
   "source": [
    "## 스칼라(0차원 텐서)\n",
    "- 하나의 숫자를 담고 있는 텐서(tensor)\n",
    "- 형상은 없음"
   ]
  },
  {
   "cell_type": "code",
   "execution_count": 6,
   "metadata": {
    "id": "TicFogkHBPRW"
   },
   "outputs": [
    {
     "name": "stdout",
     "output_type": "stream",
     "text": [
      "3\n",
      "()\n",
      "0\n"
     ]
    }
   ],
   "source": [
    "x = np.array(3) #스칼라\n",
    "print(x)\n",
    "print(x.shape)\n",
    "print(np.ndim(x)) "
   ]
  },
  {
   "cell_type": "markdown",
   "metadata": {
    "id": "rab-I4gyBeZw"
   },
   "source": [
    "## 벡터(1차원 텐서)\n",
    "- 숫자의 배열을 나타내는 텐서\n"
   ]
  },
  {
   "cell_type": "code",
   "execution_count": 7,
   "metadata": {
    "id": "s4gm0mRVBZwa"
   },
   "outputs": [
    {
     "name": "stdout",
     "output_type": "stream",
     "text": [
      "[1 2 3]\n",
      "(3,)\n",
      "1\n"
     ]
    }
   ],
   "source": [
    "x = np.array([1,2,3])\n",
    "print(x)\n",
    "print(x.shape)\n",
    "print(np.ndim(x))"
   ]
  },
  {
   "cell_type": "markdown",
   "metadata": {
    "id": "-S3G7ym8Bh6I"
   },
   "source": [
    "### 벡터의 합\n",
    "- 같은 형상(shape)일 때, 각 원소별로 계산"
   ]
  },
  {
   "cell_type": "code",
   "execution_count": 9,
   "metadata": {
    "id": "6pzPyoNqBcgn"
   },
   "outputs": [
    {
     "name": "stdout",
     "output_type": "stream",
     "text": [
      "[1 2 3] [6 7 8]\n",
      "[ 7  9 11]\n",
      "(3,)\n",
      "1\n"
     ]
    }
   ],
   "source": [
    "x = np.array([1,2,3])\n",
    "y = np.array([6,7,8])\n",
    "z = x+y\n",
    "print(x, y)\n",
    "print(z)\n",
    "print(z.shape)\n",
    "print(np.ndim(z))"
   ]
  },
  {
   "cell_type": "markdown",
   "metadata": {
    "id": "RqnBR8DyBla5"
   },
   "source": [
    "### 벡터의 곱\n",
    "-  $A = (x_1, \\ x_2, \\ x3, \\ ..., \\ x_n)$  \n",
    "  $B = (y_1, \\ y_2, \\ y3, \\ ..., \\ y_n)$ 일 때,\n",
    "- 원소곱\n",
    "  - 같은 형상(shape)일 때, 각 원소별로 계산   \n",
    "   \n",
    "    $A \\times B = (x_1, \\ x_2, \\ x_3, \\ ..., \\ x_n) \\times (y_1, \\ y_2, \\ y_3, \\ ..., \\ y_n) \\\\   \n",
    "    \\qquad = (x_1y_1, \\ x_2y_2, \\ x_3y_3, \\ ... \\ ,  \\ x_ny_n)  $\n",
    "    \n",
    "- 벡터곱(product, dot)\n",
    "  - 두 1차원 벡터가 있을 때 **각각의 성분끼리의 곱을 모두 더하는 계산**  \n",
    "  \n",
    "    $A \\bullet B \\Rightarrow A \\times B^T = (x_1, \\ x_2, \\ x_3, \\ ..., \\ x_n) \\begin{pmatrix} y_1 \\\\ y_2 \\\\ y_3 \\\\ ... \\\\ y_n  \\end{pmatrix} \\\\  \n",
    "    \\qquad = (x_1y_1 + \\ x_2y_2 + \\ x_3y_3 + \\ ... + \\ x_ny_n)  $\n",
    "  "
   ]
  },
  {
   "cell_type": "code",
   "execution_count": 11,
   "metadata": {
    "id": "kxcrUZPwBceX"
   },
   "outputs": [
    {
     "name": "stdout",
     "output_type": "stream",
     "text": [
      "[ 7 16 27]\n",
      "(3,)\n",
      "1\n",
      "======\n",
      "50\n",
      "()\n",
      "0\n"
     ]
    }
   ],
   "source": [
    "a = np.array([1,2,3])\n",
    "b = np.array([7,8,9])\n",
    "c=a*b\n",
    "print(c)\n",
    "print(c.shape)\n",
    "print(c.ndim)\n",
    "print(\"======\")\n",
    "d=np.dot(a,b) #dot의 결과는 스칼라\n",
    "print(d)\n",
    "print(d.shape)\n",
    "print(d.ndim)"
   ]
  },
  {
   "cell_type": "markdown",
   "metadata": {
    "id": "IIKrmykBBpn4"
   },
   "source": [
    "## 스칼라와 벡터의 곱\n"
   ]
  },
  {
   "cell_type": "code",
   "execution_count": 13,
   "metadata": {
    "id": "CWNGJnA9BcaU"
   },
   "outputs": [
    {
     "name": "stdout",
     "output_type": "stream",
     "text": [
      "[10 20 30]\n",
      "[10 20 30]\n"
     ]
    }
   ],
   "source": [
    "a = np.array(10)\n",
    "b = np.array([1,2,3])\n",
    "print(a*b)\n",
    "print(np.dot(a,b))"
   ]
  },
  {
   "cell_type": "markdown",
   "metadata": {
    "id": "a_WUc48rBszu"
   },
   "source": [
    "## 2차원 텐서(행렬)\n",
    "- 2차원 텐서는 행렬로 생각할 수 있음\n",
    "    - (m, n) 형상의 배열\n",
    "\n",
    "![matrix](https://upload.wikimedia.org/wikipedia/commons/thumb/4/4d/Matrix_ko.svg/570px-Matrix_ko.svg.png)\n",
    "<br /><sub>출처: https://ko.wikipedia.org/wiki/%ED%96%89%EB%A0%AC</sub>\n"
   ]
  },
  {
   "cell_type": "code",
   "execution_count": 17,
   "metadata": {
    "id": "M6QQeHZJBcX6"
   },
   "outputs": [
    {
     "name": "stdout",
     "output_type": "stream",
     "text": [
      "[[1 2 3]\n",
      " [4 5 6]]\n",
      "(2, 3)\n",
      "2\n",
      "=======\n",
      "[[1 2 3]]\n",
      "(1, 3)\n",
      "2\n"
     ]
    }
   ],
   "source": [
    "matrix = np.array([[1,2,3],\n",
    "                   [4,5,6]])\n",
    "print(matrix)\n",
    "print(matrix.shape)\n",
    "print(matrix.ndim)\n",
    "print(\"=======\")\n",
    "matrix2 = np.array([[1,2,3]])\n",
    "print(matrix2)\n",
    "print(matrix2.shape)\n",
    "print(matrix2.ndim)"
   ]
  },
  {
   "cell_type": "markdown",
   "metadata": {
    "id": "6LEedf9GB2G1"
   },
   "source": [
    "### 행렬 원소곱\n",
    "- 같은 형상(shape)일 때 덧셈, 곱셈과 같은 연산은 원소별로 진행\n"
   ]
  },
  {
   "cell_type": "code",
   "execution_count": 18,
   "metadata": {
    "id": "PchJ4TwyBcVc"
   },
   "outputs": [
    {
     "name": "stdout",
     "output_type": "stream",
     "text": [
      "행렬 A\n",
      " [[1 2]\n",
      " [3 4]]\n",
      "행렬 B\n",
      " [[10 10]\n",
      " [10 10]]\n",
      "A*B\n",
      " [[10 20]\n",
      " [30 40]]\n"
     ]
    }
   ],
   "source": [
    "A = np.array([[1,2], [3,4]])\n",
    "B = np.array([[10, 10], [10, 10]])\n",
    "print(\"행렬 A\\n\", A)\n",
    "print(\"행렬 B\\n\", B)\n",
    "print(\"A*B\\n\", A*B)"
   ]
  },
  {
   "cell_type": "markdown",
   "metadata": {
    "id": "_cvFlhuCB5hz"
   },
   "source": [
    "### 행렬 점곱(내적, product)\n",
    "- 1차원 벡터와 마찬가지로 앞 행렬의 열과 뒤 행렬의 행의 수가 같아야함"
   ]
  },
  {
   "cell_type": "code",
   "execution_count": 22,
   "metadata": {
    "id": "452G60yvBcRr"
   },
   "outputs": [
    {
     "name": "stdout",
     "output_type": "stream",
     "text": [
      "행렬 A\n",
      " [[1 2]\n",
      " [3 4]]\n",
      "행렬 B\n",
      " [[10 10 10]\n",
      " [10 10 11]]\n",
      "\n",
      "dot A and B\n",
      " [[30 30 32]\n",
      " [70 70 74]]\n",
      "(2, 3)\n",
      "2\n"
     ]
    }
   ],
   "source": [
    "A = np.array([[1,2], [3,4]])\n",
    "B = np.array([[10, 10, 10], [10, 10, 11]])\n",
    "\n",
    "print(\"행렬 A\\n\", A)\n",
    "print(\"행렬 B\\n\", B)\n",
    "l = np.dot(A, B)\n",
    "print(\"\\ndot A and B\\n\", l)\n",
    "print(l.shape)\n",
    "print(l.ndim)"
   ]
  },
  {
   "cell_type": "code",
   "execution_count": 25,
   "metadata": {
    "id": "oSgCXPJzBb0_"
   },
   "outputs": [
    {
     "ename": "ValueError",
     "evalue": "shapes (3,1) and (3,1) not aligned: 1 (dim 1) != 3 (dim 0)",
     "output_type": "error",
     "traceback": [
      "\u001b[0;31m---------------------------------------------------------------------------\u001b[0m",
      "\u001b[0;31mValueError\u001b[0m                                Traceback (most recent call last)",
      "Cell \u001b[0;32mIn[25], line 3\u001b[0m\n\u001b[1;32m      1\u001b[0m m \u001b[38;5;241m=\u001b[39m np\u001b[38;5;241m.\u001b[39marray([[\u001b[38;5;241m1\u001b[39m], [\u001b[38;5;241m2\u001b[39m], [\u001b[38;5;241m3\u001b[39m]])\n\u001b[1;32m      2\u001b[0m n \u001b[38;5;241m=\u001b[39m np\u001b[38;5;241m.\u001b[39marray([[\u001b[38;5;241m1\u001b[39m], [\u001b[38;5;241m2\u001b[39m], [\u001b[38;5;241m3\u001b[39m]])\n\u001b[0;32m----> 3\u001b[0m np\u001b[38;5;241m.\u001b[39mdot(m,n)\n",
      "\u001b[0;31mValueError\u001b[0m: shapes (3,1) and (3,1) not aligned: 1 (dim 1) != 3 (dim 0)"
     ]
    }
   ],
   "source": [
    "m = np.array([[1], [2], [3]])\n",
    "n = np.array([[1], [2], [3]])\n",
    "np.dot(m,n) # 앞부분 행과 뒷부분 열이 다름"
   ]
  },
  {
   "cell_type": "markdown",
   "metadata": {
    "id": "gfWlP-BtCAzE"
   },
   "source": [
    "### 역행렬\n",
    "- 어떤 행렬 A가 있을 때, 곱해서 단위행렬(E)를 만드는 행렬 B가 존재한다면, 행렬 B는 A의 역행렬"
   ]
  },
  {
   "cell_type": "code",
   "execution_count": 27,
   "metadata": {
    "id": "0i_L09ggBbwa"
   },
   "outputs": [
    {
     "name": "stdout",
     "output_type": "stream",
     "text": [
      "[[1 2]\n",
      " [3 4]]\n",
      "[[-2.   1. ]\n",
      " [ 1.5 -0.5]]\n",
      "[[1.0000000e+00 0.0000000e+00]\n",
      " [8.8817842e-16 1.0000000e+00]]\n"
     ]
    }
   ],
   "source": [
    "A = np.array([[1,2], [3,4]])\n",
    "B = np.linalg.inv(A)\n",
    "print(A)\n",
    "print(B)\n",
    "print(np.dot(A, B))"
   ]
  },
  {
   "cell_type": "code",
   "execution_count": 34,
   "metadata": {
    "id": "Ra6130CkBbuz"
   },
   "outputs": [
    {
     "ename": "LinAlgError",
     "evalue": "Singular matrix",
     "output_type": "error",
     "traceback": [
      "\u001b[0;31m---------------------------------------------------------------------------\u001b[0m",
      "\u001b[0;31mLinAlgError\u001b[0m                               Traceback (most recent call last)",
      "Cell \u001b[0;32mIn[34], line 2\u001b[0m\n\u001b[1;32m      1\u001b[0m C \u001b[38;5;241m=\u001b[39m np\u001b[38;5;241m.\u001b[39marray([[\u001b[38;5;241m1\u001b[39m,\u001b[38;5;241m1\u001b[39m], [\u001b[38;5;241m2\u001b[39m,\u001b[38;5;241m2\u001b[39m]])\n\u001b[0;32m----> 2\u001b[0m \u001b[38;5;28mprint\u001b[39m(np\u001b[38;5;241m.\u001b[39mlinalg\u001b[38;5;241m.\u001b[39minv(C))\n",
      "File \u001b[0;32m/opt/anaconda3/lib/python3.11/site-packages/numpy/linalg/linalg.py:561\u001b[0m, in \u001b[0;36minv\u001b[0;34m(a)\u001b[0m\n\u001b[1;32m    559\u001b[0m signature \u001b[38;5;241m=\u001b[39m \u001b[38;5;124m'\u001b[39m\u001b[38;5;124mD->D\u001b[39m\u001b[38;5;124m'\u001b[39m \u001b[38;5;28;01mif\u001b[39;00m isComplexType(t) \u001b[38;5;28;01melse\u001b[39;00m \u001b[38;5;124m'\u001b[39m\u001b[38;5;124md->d\u001b[39m\u001b[38;5;124m'\u001b[39m\n\u001b[1;32m    560\u001b[0m extobj \u001b[38;5;241m=\u001b[39m get_linalg_error_extobj(_raise_linalgerror_singular)\n\u001b[0;32m--> 561\u001b[0m ainv \u001b[38;5;241m=\u001b[39m _umath_linalg\u001b[38;5;241m.\u001b[39minv(a, signature\u001b[38;5;241m=\u001b[39msignature, extobj\u001b[38;5;241m=\u001b[39mextobj)\n\u001b[1;32m    562\u001b[0m \u001b[38;5;28;01mreturn\u001b[39;00m wrap(ainv\u001b[38;5;241m.\u001b[39mastype(result_t, copy\u001b[38;5;241m=\u001b[39m\u001b[38;5;28;01mFalse\u001b[39;00m))\n",
      "File \u001b[0;32m/opt/anaconda3/lib/python3.11/site-packages/numpy/linalg/linalg.py:112\u001b[0m, in \u001b[0;36m_raise_linalgerror_singular\u001b[0;34m(err, flag)\u001b[0m\n\u001b[1;32m    111\u001b[0m \u001b[38;5;28;01mdef\u001b[39;00m \u001b[38;5;21m_raise_linalgerror_singular\u001b[39m(err, flag):\n\u001b[0;32m--> 112\u001b[0m     \u001b[38;5;28;01mraise\u001b[39;00m LinAlgError(\u001b[38;5;124m\"\u001b[39m\u001b[38;5;124mSingular matrix\u001b[39m\u001b[38;5;124m\"\u001b[39m)\n",
      "\u001b[0;31mLinAlgError\u001b[0m: Singular matrix"
     ]
    }
   ],
   "source": [
    "C = np.array([[1,1], [2,2]])\n",
    "print(np.linalg.inv(C))\n",
    "# np.array([[3,3], [2,2]])하면 LinAlgError 발생해야하는데 난 에러 안발생함 왜지.. det(A)=0인데.. "
   ]
  },
  {
   "cell_type": "code",
   "execution_count": 43,
   "metadata": {},
   "outputs": [
    {
     "data": {
      "text/plain": [
       "array([[ 6.00479950e+15, -9.00719925e+15],\n",
       "       [-6.00479950e+15,  9.00719925e+15]])"
      ]
     },
     "execution_count": 43,
     "metadata": {},
     "output_type": "execute_result"
    }
   ],
   "source": [
    "a = np.array([[3,3], [2.0,2.0]])\n",
    "np.linalg.inv(a)"
   ]
  },
  {
   "cell_type": "markdown",
   "metadata": {
    "id": "G75LpaMmCGtW"
   },
   "source": [
    "### 전치행렬\n",
    "- 행과 열을 바꾼 배열의 형태\n",
    "\n",
    "![](https://upload.wikimedia.org/wikipedia/commons/e/e4/Matrix_transpose.gif)\n",
    "<br /><sub>출처: https://ko.wikipedia.org/wiki/%EC%A0%84%EC%B9%98%ED%96%89%EB%A0%AC</sub>"
   ]
  },
  {
   "cell_type": "code",
   "execution_count": 41,
   "metadata": {
    "id": "3QKPQKIjBbre"
   },
   "outputs": [
    {
     "name": "stdout",
     "output_type": "stream",
     "text": [
      "[[1 2]\n",
      " [3 4]\n",
      " [5 6]]\n",
      "(3, 2)\n",
      "2\n",
      "========\n",
      "[[1 3 5]\n",
      " [2 4 6]]\n",
      "(2, 3)\n",
      "2\n"
     ]
    }
   ],
   "source": [
    "A = np.array([[1,2], [3,4], [5,6]])\n",
    "print(A)\n",
    "print(A.shape)\n",
    "print(A.ndim)\n",
    "print(\"========\")\n",
    "A_ = A.T\n",
    "print(A_)\n",
    "print(A_.shape)\n",
    "print(A_.ndim)"
   ]
  },
  {
   "cell_type": "markdown",
   "metadata": {
    "id": "NubNYgh6CKpY"
   },
   "source": [
    "## 3차원 텐서\n",
    "- 보통 이미지를 나타낼 때 사용되는 텐서\n",
    "  - (width, height, channels)\n",
    "  - 일반적으로 Numpy array로 표현  \n",
    "![3d tensor](https://image.slidesharecdn.com/tensordecomposition-170301235239/95/a-brief-survey-of-tensors-5-638.jpg)\n",
    "<br /><sub>출처: https://www.slideshare.net/BertonEarnshaw/a-brief-survey-of-tensors</sub>\n",
    "- 시계열 데이터 또는 시퀀스(sequence) 데이터를 표현할 때도 사용\n",
    "  - (samples, timesteps, features)\n",
    "  - (예시) 주식 가격 데이터셋, 시간에 따른 질병 발병 건수  \n",
    "![](https://kr.mathworks.com/help/deeplearning/examples/timeseriesforecastingusingdeeplearningexample_01_ko_KR.png)\n",
    "<br /><sub>출처: https://kr.mathworks.com/help/deeplearning/examples/time-series-forecasting-using-deep-learning.html</sub>"
   ]
  },
  {
   "cell_type": "code",
   "execution_count": 48,
   "metadata": {
    "id": "IvVjleI1Bbpn"
   },
   "outputs": [
    {
     "name": "stdout",
     "output_type": "stream",
     "text": [
      "[[[1 2 3]\n",
      "  [4 5 6]\n",
      "  [1 2 3]\n",
      "  [4 5 6]\n",
      "  [1 2 3]\n",
      "  [4 5 6]]\n",
      "\n",
      " [[1 2 3]\n",
      "  [4 5 6]\n",
      "  [1 2 3]\n",
      "  [4 5 6]\n",
      "  [1 2 3]\n",
      "  [4 5 6]]\n",
      "\n",
      " [[1 2 3]\n",
      "  [4 5 6]\n",
      "  [1 2 3]\n",
      "  [4 5 6]\n",
      "  [1 2 3]\n",
      "  [4 5 6]]]\n",
      "(3, 6, 3)\n",
      "3\n"
     ]
    }
   ],
   "source": [
    "X = np.array([[[1,2,3], [4,5,6],\n",
    "            [1,2,3], [4,5,6],\n",
    "            [1,2,3], [4,5,6]],\n",
    "            [[1,2,3], [4,5,6],\n",
    "            [1,2,3], [4,5,6],\n",
    "            [1,2,3], [4,5,6]],\n",
    "            [[1,2,3], [4,5,6],\n",
    "            [1,2,3], [4,5,6],\n",
    "            [1,2,3], [4,5,6]]])\n",
    "print(X)\n",
    "print(X.shape)\n",
    "print(X.ndim)"
   ]
  },
  {
   "cell_type": "code",
   "execution_count": 50,
   "metadata": {
    "id": "CJdUSaqKBbmG"
   },
   "outputs": [
    {
     "name": "stdout",
     "output_type": "stream",
     "text": [
      "B\n",
      " [[[ 5  2  3]\n",
      "  [ 4  5  6]\n",
      "  [ 1  2  5]\n",
      "  [ 4  5  6]\n",
      "  [ 1  2  5]\n",
      "  [ 4  5  6]]\n",
      "\n",
      " [[ 5  2  3]\n",
      "  [ 4  5  6]\n",
      "  [ 1  2  3]\n",
      "  [ 4  5  6]\n",
      "  [ 1  5 11]\n",
      "  [ 4  5  6]]\n",
      "\n",
      " [[ 1  2  3]\n",
      "  [ 4  5  6]\n",
      "  [ 1  2  3]\n",
      "  [ 4  5  6]\n",
      "  [ 1  2  3]\n",
      "  [ 4  5  6]]]\n",
      "B.T\n",
      " [[[ 5  5  1]\n",
      "  [ 4  4  4]\n",
      "  [ 1  1  1]\n",
      "  [ 4  4  4]\n",
      "  [ 1  1  1]\n",
      "  [ 4  4  4]]\n",
      "\n",
      " [[ 2  2  2]\n",
      "  [ 5  5  5]\n",
      "  [ 2  2  2]\n",
      "  [ 5  5  5]\n",
      "  [ 2  5  2]\n",
      "  [ 5  5  5]]\n",
      "\n",
      " [[ 3  3  3]\n",
      "  [ 6  6  6]\n",
      "  [ 5  3  3]\n",
      "  [ 6  6  6]\n",
      "  [ 5 11  3]\n",
      "  [ 6  6  6]]]\n"
     ]
    }
   ],
   "source": [
    "B = np.array([[[5,2,3], [4,5,6],\n",
    "            [1,2,5], [4,5,6],\n",
    "            [1,2,5], [4,5,6]],\n",
    "            [[5,2,3], [4,5,6],\n",
    "            [1,2,3], [4,5,6],\n",
    "            [1,5,11], [4,5,6]],\n",
    "            [[1,2,3], [4,5,6],\n",
    "            [1,2,3], [4,5,6],\n",
    "            [1,2,3], [4,5,6]]])\n",
    "\n",
    "print(\"B\\n\",B)\n",
    "print(\"B.T\\n\",B.T)"
   ]
  },
  {
   "cell_type": "markdown",
   "metadata": {
    "id": "OoBfPQdhCPog"
   },
   "source": [
    "### 3차원 텐서 활용 예시(이미지)\n",
    "- MNIST Dataset\n",
    "- 28x28 사이즈의 gray scale 이미지들로 구성  \n",
    "![이미지](https://upload.wikimedia.org/wikipedia/commons/thumb/2/27/MnistExamples.png/440px-MnistExamples.png)  \n",
    "<sub>출처: https://ko.wikipedia.org/wiki/MNIST_%EB%8D%B0%EC%9D%B4%ED%84%B0%EB%B2%A0%EC%9D%B4%EC%8A%A4</sub>\n",
    "\n",
    "  \n",
    "- gray scale: 0~255의 값을 통해 밝기를 표현\n",
    "  0으로 갈수록 어두워지고, 255로 갈수록 밝아짐\n",
    "![이미지](https://miro.medium.com/max/1400/1*euc4RxnNo78LFEGrb-QZ7w.jpeg)  \n",
    "<sub>출처: https://medium.com/@himnickson/converting-rgb-image-to-the-grayscale-image-in-java-9e1edc5bd6e7</sub>\n",
    "\n"
   ]
  },
  {
   "cell_type": "code",
   "execution_count": 51,
   "metadata": {
    "id": "YmGkMLmEBbkh"
   },
   "outputs": [
    {
     "name": "stdout",
     "output_type": "stream",
     "text": [
      "Downloading data from https://storage.googleapis.com/tensorflow/tf-keras-datasets/mnist.npz\n",
      "\u001b[1m11490434/11490434\u001b[0m \u001b[32m━━━━━━━━━━━━━━━━━━━━\u001b[0m\u001b[37m\u001b[0m \u001b[1m2s\u001b[0m 0us/step\n"
     ]
    }
   ],
   "source": [
    "from keras.datasets import mnist\n",
    "\n",
    "(train_images, train_labels), (test_images, test_labels) = mnist.load_data()"
   ]
  },
  {
   "cell_type": "code",
   "execution_count": 53,
   "metadata": {
    "id": "7zV5i29eBbgo"
   },
   "outputs": [
    {
     "name": "stdout",
     "output_type": "stream",
     "text": [
      "3\n"
     ]
    }
   ],
   "source": [
    "print(train_images.ndim)"
   ]
  },
  {
   "cell_type": "code",
   "execution_count": 52,
   "metadata": {
    "id": "yWpHOjFyBbfN"
   },
   "outputs": [
    {
     "name": "stdout",
     "output_type": "stream",
     "text": [
      "(60000, 28, 28)\n"
     ]
    }
   ],
   "source": [
    "print(train_images.shape)"
   ]
  },
  {
   "cell_type": "code",
   "execution_count": 54,
   "metadata": {
    "id": "tRwClWKsBbcg"
   },
   "outputs": [
    {
     "name": "stdout",
     "output_type": "stream",
     "text": [
      "uint8\n"
     ]
    }
   ],
   "source": [
    "print(train_images.dtype)"
   ]
  },
  {
   "cell_type": "code",
   "execution_count": 59,
   "metadata": {
    "id": "WlN4f8mmBbZI"
   },
   "outputs": [
    {
     "data": {
      "text/plain": [
       "<function matplotlib.pyplot.show(close=None, block=None)>"
      ]
     },
     "execution_count": 59,
     "metadata": {},
     "output_type": "execute_result"
    },
    {
     "data": {
      "image/png": "[encoded data removed]",
      "text/plain": [
       "<Figure size 640x480 with 1 Axes>"
      ]
     },
     "metadata": {},
     "output_type": "display_data"
    }
   ],
   "source": [
    "temp_image = train_images[2]\n",
    "plt.imshow(temp_image, cmap=\"gray\")\n",
    "plt.show"
   ]
  },
  {
   "cell_type": "markdown",
   "metadata": {
    "id": "6zrYXjEoCnZG"
   },
   "source": [
    "## 브로드캐스팅(broadcasting)\n",
    "- 넘파이에서 다른 형상(shape)끼리 계산 가능\n",
    "\n",
    "- 1차원 텐서\n",
    "\n",
    "![1d](https://numpy.org/doc/1.18/_images/theory.broadcast_1.gif)\n",
    "\n",
    "- 2차원 텐서\n",
    "\n",
    "![2d](https://numpy.org/doc/1.18/_images/theory.broadcast_2.gif)\n",
    "\n",
    "- 더 작은 형상(shape)이 형상이 더 큰 배열에 확장 가능해야함\n",
    "\n",
    "![broadcast](https://numpy.org/doc/1.18/_images/theory.broadcast_3.gif)\n",
    "\n",
    "- (참고) 아래의 경우도 가능\n",
    "\n",
    "![broadcast](https://numpy.org/doc/1.18/_images/theory.broadcast_4.gif)\n",
    "\n",
    "<br /><sub>https://numpy.org/doc/1.18/user/theory.broadcasting.html#array-broadcasting-in-numpy</sub>"
   ]
  },
  {
   "cell_type": "code",
   "execution_count": 63,
   "metadata": {
    "id": "CvD1A-YzCnLj"
   },
   "outputs": [
    {
     "name": "stdout",
     "output_type": "stream",
     "text": [
      "A\n",
      " [[[1 1 1]\n",
      "  [2 2 2]]\n",
      "\n",
      " [[3 3 3]\n",
      "  [4 4 4]]]\n",
      "A.shape:  (2, 2, 3)\n",
      "B\n",
      " [[10 10 10]]\n",
      "B.shape:  (1, 3)\n",
      "\n",
      "A*B\n",
      " [[[10 10 10]\n",
      "  [20 20 20]]\n",
      "\n",
      " [[30 30 30]\n",
      "  [40 40 40]]]\n"
     ]
    }
   ],
   "source": [
    "A = np.array([[[1,1,1],\n",
    "               [2,2,2]], \n",
    "              [[3,3,3], \n",
    "               [4,4,4]]])\n",
    "B = np.array([[10,10,10]])\n",
    "print(\"A\\n\",A)\n",
    "print(\"A.shape: \",A.shape)\n",
    "print(\"B\\n\",B)\n",
    "print(\"B.shape: \",B.shape)\n",
    "\n",
    "print(\"\\nA*B\\n\",A*B)"
   ]
  },
  {
   "cell_type": "code",
   "execution_count": 64,
   "metadata": {
    "id": "GBqGnivIBbTz"
   },
   "outputs": [
    {
     "ename": "ValueError",
     "evalue": "operands could not be broadcast together with shapes (2,3) (1,2) ",
     "output_type": "error",
     "traceback": [
      "\u001b[0;31m---------------------------------------------------------------------------\u001b[0m",
      "\u001b[0;31mValueError\u001b[0m                                Traceback (most recent call last)",
      "Cell \u001b[0;32mIn[64], line 3\u001b[0m\n\u001b[1;32m      1\u001b[0m A \u001b[38;5;241m=\u001b[39m np\u001b[38;5;241m.\u001b[39marray([[\u001b[38;5;241m1\u001b[39m,\u001b[38;5;241m2\u001b[39m,\u001b[38;5;241m3\u001b[39m],[\u001b[38;5;241m4\u001b[39m,\u001b[38;5;241m5\u001b[39m,\u001b[38;5;241m6\u001b[39m]])\n\u001b[1;32m      2\u001b[0m B \u001b[38;5;241m=\u001b[39m np\u001b[38;5;241m.\u001b[39marray([[\u001b[38;5;241m10\u001b[39m,\u001b[38;5;241m10\u001b[39m]])\n\u001b[0;32m----> 3\u001b[0m A\u001b[38;5;241m*\u001b[39mB\n",
      "\u001b[0;31mValueError\u001b[0m: operands could not be broadcast together with shapes (2,3) (1,2) "
     ]
    }
   ],
   "source": [
    "A = np.array([[1,2,3],[4,5,6]])\n",
    "B = np.array([[10,10]])\n",
    "A*B"
   ]
  },
  {
   "cell_type": "markdown",
   "metadata": {
    "id": "oMdQuRrbCvHh"
   },
   "source": [
    "## 4, 5차원 텐서\n",
    "- Color Image Datasets(4차원)\n",
    "  - (samples, height, width, channels) ( Keras, Tensorflow )\n",
    "  - (samples, channels, height, width) ( Pytorch )\n",
    "\n",
    "\n",
    "- 동영상(5차원)\n",
    "  1. (samples, frames, height, width, channels)\n",
    "  2. (samples, frames, channels, height, width)\n",
    "  - 예시 1) (4, 300, 1920, 1080, 3)\n",
    "    - 1920x1080 사이즈 3채널의 300프레임 수를 가진 배치가 4개"
   ]
  },
  {
   "cell_type": "markdown",
   "metadata": {
    "id": "owYBNkzMCxaE"
   },
   "source": [
    "## 텐서 크기 변환\n",
    "- reshape로 텐서의 크기 변환 가능\n",
    "- **변환 전의 원소의 개수와 변환 이후의 텐서의 개수가 같아야** 함"
   ]
  },
  {
   "cell_type": "code",
   "execution_count": 67,
   "metadata": {
    "id": "s9NyLg5GCxwF"
   },
   "outputs": [
    {
     "name": "stdout",
     "output_type": "stream",
     "text": [
      "A\n",
      " [[1 2 3]\n",
      " [5 4 7]]\n",
      "A.shape \n",
      " (2, 3)\n",
      "A\n",
      " [[1 2 3 5 4 7]]\n",
      "A.shape \n",
      " (1, 6)\n"
     ]
    }
   ],
   "source": [
    "A = np.array([[1,2,3], [5,4,7]])\n",
    "print(\"A\\n\",A)\n",
    "print(\"A.shape \\n\", A.shape)\n",
    "A= A.reshape(1, 6)\n",
    "print(\"A\\n\",A)\n",
    "print(\"A.shape \\n\", A.shape)"
   ]
  },
  {
   "cell_type": "code",
   "execution_count": 71,
   "metadata": {
    "id": "u1vgBq9fC34Q"
   },
   "outputs": [
    {
     "name": "stdout",
     "output_type": "stream",
     "text": [
      "A\n",
      " [[[1 2 3]\n",
      "  [5 4 7]]\n",
      "\n",
      " [[3 2 1]\n",
      "  [4 3 4]]]\n",
      "A.shape \n",
      " (2, 2, 3)\n",
      "\n",
      "A\n",
      " [[1 2 3 5]\n",
      " [4 7 3 2]\n",
      " [1 4 3 4]]\n",
      "A.shape \n",
      " (3, 4)\n"
     ]
    }
   ],
   "source": [
    "A = np.array([[[1,2,3], [5,4,7]],\n",
    "              [[3,2,1], [4,3,4]]])\n",
    "print(\"A\\n\",A)\n",
    "print(\"A.shape \\n\", A.shape)\n",
    "A = A.reshape(3,4) #3차원을 2차원으로\n",
    "print(\"\\nA\\n\",A)\n",
    "print(\"A.shape \\n\", A.shape)"
   ]
  },
  {
   "cell_type": "markdown",
   "metadata": {
    "id": "CHN5jR7vC8hO"
   },
   "source": [
    "- -1 을 통해 자동으로 형상을 지정 가능  \n",
    "  원소의 갯수에 맞게 넘파이가 자동으로 형상을 지정  \n",
    "      (2, 2, 3) -> (3, -1)     (O)\n",
    "                -> (2, 1, 6)   (O)\n",
    "                -> (2, -1, -1) (X)\n",
    "                -> (2, 5, -1)  (X)"
   ]
  },
  {
   "cell_type": "code",
   "execution_count": 72,
   "metadata": {
    "id": "gYLuemhdC5KG"
   },
   "outputs": [
    {
     "data": {
      "text/plain": [
       "array([[1, 2, 3, 5, 4, 7],\n",
       "       [3, 2, 1, 4, 3, 4]])"
      ]
     },
     "execution_count": 72,
     "metadata": {},
     "output_type": "execute_result"
    }
   ],
   "source": [
    "A.reshape(-1, 6)"
   ]
  },
  {
   "cell_type": "code",
   "execution_count": null,
   "metadata": {},
   "outputs": [],
   "source": []
  }
 ],
 "metadata": {
  "colab": {
   "provenance": [
    {
     "file_id": "1ZM-bVqUpOuauK6KBStMGaDv94iuqox45",
     "timestamp": 1714715520778
    }
   ]
  },
  "kernelspec": {
   "display_name": "Python 3 (ipykernel)",
   "language": "python",
   "name": "python3"
  },
  "language_info": {
   "codemirror_mode": {
    "name": "ipython",
    "version": 3
   },
   "file_extension": ".py",
   "mimetype": "text/x-python",
   "name": "python",
   "nbconvert_exporter": "python",
   "pygments_lexer": "ipython3",
   "version": "3.11.7"
  }
 },
 "nbformat": 4,
 "nbformat_minor": 1
}
